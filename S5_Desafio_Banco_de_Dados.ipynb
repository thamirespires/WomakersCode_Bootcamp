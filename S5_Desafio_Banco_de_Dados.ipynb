{
  "nbformat": 4,
  "nbformat_minor": 0,
  "metadata": {
    "colab": {
      "provenance": []
    },
    "kernelspec": {
      "name": "python3",
      "display_name": "Python 3"
    },
    "language_info": {
      "name": "python"
    }
  },
  "cells": [
    {
      "cell_type": "markdown",
      "source": [
        "##Banco de Dados"
      ],
      "metadata": {
        "id": "ei8zS8BTm3ll"
      }
    },
    {
      "cell_type": "code",
      "source": [
        "import sqlite3\n",
        "\n",
        "conexao = sqlite3.connect('exercicio')\n",
        "cursor = conexao.cursor()"
      ],
      "metadata": {
        "id": "9Yx9CwRTnIL1"
      },
      "execution_count": null,
      "outputs": []
    },
    {
      "cell_type": "markdown",
      "source": [
        "**1. Crie uma tabela chamada \"alunos\" com os seguintes campos: id(inteiro), nome (texto), idade (inteiro) e curso (texto).**"
      ],
      "metadata": {
        "id": "bFphSRmpnHDT"
      }
    },
    {
      "cell_type": "code",
      "source": [
        "cursor.execute('CREATE TABLE alunos(id INT, nome VARCHAR(100), idade INT, curso VARCHAR(100));')"
      ],
      "metadata": {
        "id": "-lZOA1XWnR48"
      },
      "execution_count": 2,
      "outputs": []
    },
    {
      "cell_type": "markdown",
      "source": [
        "**2. Insira pelo menos 5 registros de alunos na tabela que você criou no exercício anterior.**"
      ],
      "metadata": {
        "id": "AIlB32n7nTxk"
      }
    },
    {
      "cell_type": "code",
      "source": [
        "cursor.execute('INSERT INTO alunos(id,nome,idade,curso) VALUES(1,\"Thamires\",\"20\",\"Economia\")')\n",
        "cursor.execute('INSERT INTO alunos(id,nome,idade,curso) VALUES(2,\"João\",\"22\",\"Medicina\")')\n",
        "cursor.execute('INSERT INTO alunos(id,nome,idade,curso) VALUES(3,\"Maria\",\"25\",\"jornalismo\")')\n",
        "cursor.execute('INSERT INTO alunos(id,nome,idade,curso) VALUES(4,\"Nathalia\",\"21\",\"Enfermagem\")')\n",
        "cursor.execute('INSERT INTO alunos(id,nome,idade,curso) VALUES(5,\"Gabriel\",\"23\",\"TI\")')\n",
        "cursor.execute('INSERT INTO alunos(id,nome,idade,curso) VALUES(6,\"Ana\",\"22\",\"Engenharia\")')\n",
        "cursor.execute('INSERT INTO alunos(id,nome,idade,curso) VALUES(7,\"Julio\",\"21\",\"Engenharia\")')"
      ],
      "metadata": {
        "id": "KiTOIrlsnZXL"
      },
      "execution_count": null,
      "outputs": []
    },
    {
      "cell_type": "markdown",
      "source": [
        "**3. Consultas Básicas: Escreva consultas SQL para realizar as seguintes tarefas:**"
      ],
      "metadata": {
        "id": "sSCpdc3Znfrh"
      }
    },
    {
      "cell_type": "markdown",
      "source": [
        "* a) Selecionar todos os registros da tabela \"alunos\"."
      ],
      "metadata": {
        "id": "pwcMXv68nn34"
      }
    },
    {
      "cell_type": "code",
      "source": [
        "alunos = cursor.execute('SELECT * FROM alunos')\n",
        "for alunos in alunos:\n",
        "    print(alunos)"
      ],
      "metadata": {
        "id": "x6g65VFYntOZ"
      },
      "execution_count": null,
      "outputs": []
    },
    {
      "cell_type": "markdown",
      "source": [
        "* b) Selecionar o nome e a idade dos alunos com mais de 20 anos."
      ],
      "metadata": {
        "id": "HiNsORLDnxK8"
      }
    },
    {
      "cell_type": "code",
      "source": [
        "alunos = cursor.execute('SELECT nome FROM alunos where idade>20')\n",
        "for alunos in alunos:\n",
        "    print(alunos)"
      ],
      "metadata": {
        "id": "lqYluIfjn0RE"
      },
      "execution_count": null,
      "outputs": []
    },
    {
      "cell_type": "markdown",
      "source": [
        "* c) Selecionar os alunos do curso de \"Engenharia\" em ordem alfabética."
      ],
      "metadata": {
        "id": "i9O7OZQEn43i"
      }
    },
    {
      "cell_type": "code",
      "source": [
        "alunos = cursor.execute('SELECT * FROM alunos WHERE curso=\"Engenharia\" ORDER BY nome')\n",
        "for alunos in alunos:\n",
        "    print(alunos)"
      ],
      "metadata": {
        "id": "PB11jqDQn73y"
      },
      "execution_count": 3,
      "outputs": []
    },
    {
      "cell_type": "markdown",
      "source": [
        "* d) Contar o número total de alunos na tabela."
      ],
      "metadata": {
        "id": "3WYEZWJPoOyD"
      }
    },
    {
      "cell_type": "code",
      "source": [
        "alunos = cursor.execute('SELECT COUNT (*) FROM alunos')\n",
        "for alunos in alunos:\n",
        "    print(alunos)"
      ],
      "metadata": {
        "id": "bK3uE2NToQbR"
      },
      "execution_count": null,
      "outputs": []
    },
    {
      "cell_type": "markdown",
      "source": [
        "**4. Atualização e Remoção**"
      ],
      "metadata": {
        "id": "jLj6FnlWoXiC"
      }
    },
    {
      "cell_type": "markdown",
      "source": [
        "* a) Atualize a idade de um aluno específico na tabela."
      ],
      "metadata": {
        "id": "BEx-s1C8oZys"
      }
    },
    {
      "cell_type": "code",
      "source": [
        "cursor.execute('UPDATE alunos SET idade=\"24\" WHERE nome=\"João\"')"
      ],
      "metadata": {
        "id": "2OcvuLVTodtq"
      },
      "execution_count": null,
      "outputs": []
    },
    {
      "cell_type": "markdown",
      "source": [
        "* b) Remova um aluno pelo seu ID."
      ],
      "metadata": {
        "id": "aYvM11gcohbW"
      }
    },
    {
      "cell_type": "code",
      "source": [
        "cursor.execute('DELETE FROM alunos where id=3')"
      ],
      "metadata": {
        "id": "TFY2npDiokxS"
      },
      "execution_count": null,
      "outputs": []
    },
    {
      "cell_type": "markdown",
      "source": [
        "**5. Criar uma Tabela e Inserir Dados:**\n",
        "\n",
        "**Crie uma tabela chamada \"clientes\" com os campos: id (chave primária), nome (texto), idade (inteiro) e saldo (float).\n",
        " Insira alguns registros de clientes na tabela.**"
      ],
      "metadata": {
        "id": "KBF8z74QooLi"
      }
    },
    {
      "cell_type": "code",
      "source": [
        "cursor.execute('CREATE TABLE clientes(id INT PRIMARY KEY , nome VARCHAR(100), idade INT, saldo FLOAT)')\n",
        "cursor.execute('INSERT INTO clientes(id,nome,idade,saldo) VALUES(1,\"Thamires\",\"20\",\"500\")')\n",
        "cursor.execute('INSERT INTO clientes(id,nome,idade,saldo) VALUES(2,\"Bruno\",\"32\",\"25000\")')\n",
        "cursor.execute('INSERT INTO clientes(id,nome,idade,saldo) VALUES(3,\"Daniela\",\"41\",\"100000\")')\n",
        "cursor.execute('INSERT INTO clientes(id,nome,idade,saldo) VALUES(4,\"Ronaldo\",\"25\",\"680\")')\n",
        "cursor.execute('INSERT INTO clientes(id,nome,idade,saldo) VALUES(5,\"Vanessa\",\"28\",\"2500\")')"
      ],
      "metadata": {
        "id": "H9NC4yHWozbJ"
      },
      "execution_count": null,
      "outputs": []
    },
    {
      "cell_type": "markdown",
      "source": [
        "**6. Consultas e Funções Agregadas: Escreva consultas SQL para realizar as seguintes tarefas:**"
      ],
      "metadata": {
        "id": "ENTUo3Kro6zQ"
      }
    },
    {
      "cell_type": "markdown",
      "source": [
        "* a) Selecione o nome e a idade dos clientes com idade superior a 30 anos."
      ],
      "metadata": {
        "id": "yBg4SVMIo-iQ"
      }
    },
    {
      "cell_type": "code",
      "source": [
        "clientes = cursor.execute('SELECT nome FROM clientes where idade>30')\n",
        "for clientes in clientes:\n",
        "    print(clientes)"
      ],
      "metadata": {
        "id": "EoLjPGIIpB8C"
      },
      "execution_count": null,
      "outputs": []
    },
    {
      "cell_type": "markdown",
      "source": [
        "* b) Calcule o saldo médio dos clientes."
      ],
      "metadata": {
        "id": "dX59NxxkpG0S"
      }
    },
    {
      "cell_type": "code",
      "source": [
        "clientes = cursor.execute('SELECT AVG(saldo) FROM clientes')\n",
        "for clientes in clientes:\n",
        "    print(clientes)"
      ],
      "metadata": {
        "id": "X0WnM7GWpJkD"
      },
      "execution_count": null,
      "outputs": []
    },
    {
      "cell_type": "markdown",
      "source": [
        "* c) Encontre o cliente com o saldo máximo."
      ],
      "metadata": {
        "id": "Ad7XDkIlpOKM"
      }
    },
    {
      "cell_type": "code",
      "source": [
        "clientes = cursor.execute('SELECT id, nome, saldo FROM clientes WHERE saldo = (SELECT MAX(saldo) FROM clientes)')\n",
        "for cliente in cliente:\n",
        "    print(cliente)"
      ],
      "metadata": {
        "id": "JneD8nFPpRA1"
      },
      "execution_count": null,
      "outputs": []
    },
    {
      "cell_type": "markdown",
      "source": [
        "* d) Conte quantos clientes têm saldo acima de 1000."
      ],
      "metadata": {
        "id": "LsUaqRVkpVws"
      }
    },
    {
      "cell_type": "code",
      "source": [
        "clientes = cursor.execute('SELECT COUNT(*) FROM clientes WHERE saldo > 1200')\n",
        "for clientes in clientes:\n",
        "    print(clientes)"
      ],
      "metadata": {
        "id": "XFGsB4MYpVC7"
      },
      "execution_count": null,
      "outputs": []
    },
    {
      "cell_type": "markdown",
      "source": [
        "**7. Atualização e Remoção com Condições**"
      ],
      "metadata": {
        "id": "eT_DQrkJpd1s"
      }
    },
    {
      "cell_type": "markdown",
      "source": [
        "* a) Atualize o saldo de um cliente específico."
      ],
      "metadata": {
        "id": "H5i0ENPHpeAr"
      }
    },
    {
      "cell_type": "code",
      "source": [
        "cursor.execute('UPDATE clientes SET saldo=\"720\" WHERE nome=\"Thamires\"')"
      ],
      "metadata": {
        "id": "5SZrWQMupeQX"
      },
      "execution_count": null,
      "outputs": []
    },
    {
      "cell_type": "markdown",
      "source": [
        "* b) Remova um cliente pelo seu ID."
      ],
      "metadata": {
        "id": "YIpatRe5pntw"
      }
    },
    {
      "cell_type": "code",
      "source": [
        "cursor.execute('DELETE FROM clientes where id=4')"
      ],
      "metadata": {
        "id": "9U1OfkOhpn2j"
      },
      "execution_count": null,
      "outputs": []
    },
    {
      "cell_type": "markdown",
      "source": [
        "**8. Junção de Tabelas:**\n",
        "\n",
        "**Crie uma segunda tabela chamada \"compras\" com os campos: id (chave primária), cliente_id (chave estrangeira referenciando o id da tabela \"clientes\"), produto (texto) e valor (real).\n",
        " Insira algumas compras associadas a clientes existentes na tabela \"clientes\". Escreva uma consulta para exibir o nome do cliente, o produto e o valor de cada compra.**"
      ],
      "metadata": {
        "id": "IdfWEmXDpr2I"
      }
    },
    {
      "cell_type": "code",
      "execution_count": null,
      "metadata": {
        "colab": {
          "base_uri": "https://localhost:8080/"
        },
        "id": "8DGbJJgu99NZ",
        "outputId": "c6053a78-6511-4b12-8ce5-249c49683d66"
      },
      "outputs": [
        {
          "output_type": "execute_result",
          "data": {
            "text/plain": [
              "<function Connection.close()>"
            ]
          },
          "metadata": {},
          "execution_count": 2
        }
      ],
      "source": [
        "cursor.execute('CREATE TABLE compras(id INT PRIMARY KEY, cliente_id INT, produto VARCHAR(100), valor FLOAT,  FOREIGN KEY (cliente_id) REFERENCES clientes(id))')\n",
        "cursor.execute('INSERT INTO compras(id,cliente_id,produto,valor) VALUES(1,1,\"refrigerante\",\"10\")')\n",
        "cursor.execute('INSERT INTO compras(id,cliente_id,produto,valor) VALUES(2,2,\"sabão em pó\",\"25\")')\n",
        "cursor.execute('INSERT INTO compras(id,cliente_id,produto,valor) VALUES(3,3,\"pizza\",\"53\")')\n",
        "cursor.execute('INSERT INTO compras(id,cliente_id,produto,valor) VALUES(4,4,\"óleo\",\"6\")')\n",
        "cursor.execute('INSERT INTO compras(id,cliente_id,produto,valor) VALUES(5,5,\"sorvete\",\"12\")')\n",
        "\n",
        "cursor.execute('SELECT c.nome, p.produto, p.valor FROM compras AS p JOIN clientes AS c ON p.cliente_id = c.id')\n",
        "resultados = cursor.fetchall()\n",
        "print(\"Nome do cliente | Produto | Valor\")\n",
        "for resultado in resultados:\n",
        "    print(resultado[0], \"|\", resultado[1], \"|\", resultado[2])"
      ]
    },
    {
      "cell_type": "code",
      "source": [
        "conexao.commit() # enviar\n",
        "conexao.close # fechar conexão"
      ],
      "metadata": {
        "id": "4ebmTbzUnYJS"
      },
      "execution_count": null,
      "outputs": []
    }
  ]
}